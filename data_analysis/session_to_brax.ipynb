{
 "cells": [
  {
   "cell_type": "code",
   "execution_count": null,
   "metadata": {},
   "outputs": [],
   "source": [
    "from brax.training.types import Transition\n",
    "import pickle\n",
    "from alrd.run_spot import SessionBuffer, DataBuffer, TransitionData, TimeData, StateData, SpotState\n",
    "\n",
    "# load trajectory from policy simulation\n",
    "file_path_raw = \"/home/bhoffman/Documents/MT FS24/active-learning-dynamics/collected_data/test20241019-170516_policy_testing_full_v9_un61x52u_bnn-fsvgd_800_2_0__1.0\"\n",
    "file_path = file_path_raw + \"/session_buffer.pickle\"\n",
    "with open(file_path, 'rb') as file:\n",
    "    datas = pickle.load(file)\n",
    "    buffers = datas.data_buffers\n",
    "    buffer = buffers[0]\n",
    "\n",
    "traj = buffer.brax_transitions\n",
    "\n",
    "# save as pickle\n",
    "\n",
    "save_path = file_path_raw + \"/brax_transitions.pickle\"\n",
    "\n",
    "# make sure the directory exists\n",
    "import os\n",
    "os.makedirs(os.path.dirname(save_path), exist_ok=True)\n",
    "\n",
    "# replace the old file\n",
    "with open(save_path, 'wb') as file:\n",
    "    pickle.dump(traj, file)\n",
    "\n",
    "\n",
    "\n",
    "\n"
   ]
  },
  {
   "cell_type": "code",
   "execution_count": null,
   "metadata": {},
   "outputs": [],
   "source": []
  }
 ],
 "metadata": {
  "kernelspec": {
   "display_name": "alrd",
   "language": "python",
   "name": "python3"
  },
  "language_info": {
   "codemirror_mode": {
    "name": "ipython",
    "version": 3
   },
   "file_extension": ".py",
   "mimetype": "text/x-python",
   "name": "python",
   "nbconvert_exporter": "python",
   "pygments_lexer": "ipython3",
   "version": "3.10.14"
  }
 },
 "nbformat": 4,
 "nbformat_minor": 2
}
