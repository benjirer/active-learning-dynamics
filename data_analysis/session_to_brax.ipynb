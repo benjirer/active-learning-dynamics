{
 "cells": [
  {
   "cell_type": "code",
   "execution_count": 7,
   "metadata": {},
   "outputs": [
    {
     "name": "stdout",
     "output_type": "stream",
     "text": [
      "Saved trajectory to /home/bhoffman/Documents/MT_FS24/simulation_transfer/results/demo_081024/bnn_fsvgd_trajectory.pickle\n"
     ]
    }
   ],
   "source": [
    "from brax.training.types import Transition\n",
    "import pickle\n",
    "from alrd.run_spot import SessionBuffer, DataBuffer, TransitionData, TimeData, StateData, SpotState\n",
    "\n",
    "# load trajectory from policy simulation\n",
    "file_path = \"/home/bhoffman/Documents/MT FS24/active-learning-dynamics/collected_data/test20241008-125804_v5_0_xdbmvtfz_0.4/session_buffer.pickle\"\n",
    "with open(file_path, 'rb') as file:\n",
    "    session = pickle.load(file)\n",
    "    datas = session.data_buffers\n",
    "    data = datas[0]\n",
    "\n",
    "traj = data.brax_transitions\n",
    "\n",
    "# save as pickle\n",
    "\n",
    "save_path = \"/home/bhoffman/Documents/MT_FS24/simulation_transfer/results/demo_081024/bnn_fsvgd_trajectory.pickle\"\n",
    "with open(save_path, 'wb') as file:\n",
    "    pickle.dump(traj, file)\n",
    "    print(f\"Saved trajectory to {save_path}\")\n",
    "\n",
    "\n",
    "\n",
    "\n"
   ]
  },
  {
   "cell_type": "code",
   "execution_count": null,
   "metadata": {},
   "outputs": [],
   "source": []
  }
 ],
 "metadata": {
  "kernelspec": {
   "display_name": "alrd",
   "language": "python",
   "name": "python3"
  },
  "language_info": {
   "codemirror_mode": {
    "name": "ipython",
    "version": 3
   },
   "file_extension": ".py",
   "mimetype": "text/x-python",
   "name": "python",
   "nbconvert_exporter": "python",
   "pygments_lexer": "ipython3",
   "version": "3.10.14"
  }
 },
 "nbformat": 4,
 "nbformat_minor": 2
}
